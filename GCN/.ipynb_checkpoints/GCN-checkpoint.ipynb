{
 "cells": [
  {
   "cell_type": "markdown",
   "metadata": {},
   "source": [
    "# 필요한 패키지 설치"
   ]
  },
  {
   "cell_type": "code",
   "execution_count": 19,
   "metadata": {},
   "outputs": [],
   "source": [
    "import os\n",
    "\n",
    "import torch\n",
    "import torch.nn as nn\n",
    "import torch.nn.functional as F\n",
    "\n",
    "import torch_geometric.nn\n",
    "from torch_geometric.nn import GCNConv\n",
    "\n",
    "from torch_geometric.datasets import Planetoid"
   ]
  },
  {
   "cell_type": "markdown",
   "metadata": {},
   "source": [
    "# Data 불러오기"
   ]
  },
  {
   "cell_type": "code",
   "execution_count": 2,
   "metadata": {},
   "outputs": [],
   "source": [
    "dataset = Planetoid(root='/tmp/Cora', name='Cora')\n",
    "data = dataset[0]"
   ]
  },
  {
   "cell_type": "code",
   "execution_count": 13,
   "metadata": {},
   "outputs": [
    {
     "data": {
      "text/plain": [
       "Data(edge_index=[2, 10556], test_mask=[2708], train_mask=[2708], val_mask=[2708], x=[2708, 1433], y=[2708])"
      ]
     },
     "execution_count": 13,
     "metadata": {},
     "output_type": "execute_result"
    }
   ],
   "source": [
    "data"
   ]
  },
  {
   "cell_type": "code",
   "execution_count": 22,
   "metadata": {},
   "outputs": [],
   "source": [
    "num_node_features = dataset.num_node_features"
   ]
  },
  {
   "cell_type": "code",
   "execution_count": 23,
   "metadata": {},
   "outputs": [],
   "source": [
    "num_classes = dataset.num_classes"
   ]
  },
  {
   "cell_type": "markdown",
   "metadata": {},
   "source": [
    "# 모델 만들기"
   ]
  },
  {
   "cell_type": "code",
   "execution_count": 34,
   "metadata": {},
   "outputs": [],
   "source": [
    "class GCN(nn.Module):\n",
    "    \n",
    "    def __init__(self):\n",
    "        super(GCN, self).__init__()\n",
    "        self.conv1 = GCNConv(num_node_features, 16)\n",
    "        self.conv2 = GCNConv(16, dataset.num_classes)\n",
    "        \n",
    "    def forward(self, data):\n",
    "        x = data.x\n",
    "        edge_index = data.edge_index\n",
    "        \n",
    "        x = self.conv1(x, edge_index)\n",
    "        x = F.relu(x)\n",
    "        x = F.dropout(x)\n",
    "        x = self.conv2(x, edge_index)\n",
    "        \n",
    "        return F.softmax(x, dim=1)\n",
    "        "
   ]
  },
  {
   "cell_type": "markdown",
   "metadata": {},
   "source": [
    "# Learning"
   ]
  },
  {
   "cell_type": "code",
   "execution_count": 35,
   "metadata": {},
   "outputs": [
    {
     "name": "stdout",
     "output_type": "stream",
     "text": [
      "cuda:0\n"
     ]
    }
   ],
   "source": [
    "os.environ[\"CUDA_DEVICE_ORDER\"]=\"PCI_BUS_ID\"\n",
    "os.environ[\"CUDA_VISIBLE_DEVICES\"]=\"0\"\n",
    "device = torch.device(\"cuda:0\" if torch.cuda.is_available() else 'cpu')\n",
    "print(device)"
   ]
  },
  {
   "cell_type": "code",
   "execution_count": 36,
   "metadata": {},
   "outputs": [
    {
     "data": {
      "text/plain": [
       "GCN(\n",
       "  (conv1): GCNConv(1433, 16)\n",
       "  (conv2): GCNConv(16, 7)\n",
       ")"
      ]
     },
     "execution_count": 36,
     "metadata": {},
     "output_type": "execute_result"
    }
   ],
   "source": [
    "model = GCN()\n",
    "model.to(device)"
   ]
  },
  {
   "cell_type": "code",
   "execution_count": 37,
   "metadata": {},
   "outputs": [],
   "source": [
    "data = dataset[0].to(device)\n",
    "optimizer = torch.optim.Adam(model.parameters(), lr=0.01, weight_decay=5e-4)\n",
    "epochs = 200"
   ]
  },
  {
   "cell_type": "code",
   "execution_count": 58,
   "metadata": {},
   "outputs": [
    {
     "name": "stdout",
     "output_type": "stream",
     "text": [
      "epoch : 10, train_loss : 0.6814197897911072, acc : 0.652\n",
      "epoch : 20, train_loss : 0.2682868242263794, acc : 0.652\n",
      "epoch : 30, train_loss : 0.18273580074310303, acc : 0.659\n",
      "epoch : 40, train_loss : 0.2773841917514801, acc : 0.643\n",
      "epoch : 50, train_loss : 0.12763670086860657, acc : 0.693\n",
      "epoch : 60, train_loss : 0.27664074301719666, acc : 0.704\n",
      "epoch : 70, train_loss : 0.18446123600006104, acc : 0.692\n",
      "epoch : 80, train_loss : 0.2889241874217987, acc : 0.619\n",
      "epoch : 90, train_loss : 0.2074555605649948, acc : 0.639\n",
      "epoch : 100, train_loss : 0.3688875436782837, acc : 0.646\n",
      "epoch : 110, train_loss : 0.4859401285648346, acc : 0.673\n",
      "epoch : 120, train_loss : 0.04543771967291832, acc : 0.699\n",
      "epoch : 130, train_loss : 0.24387718737125397, acc : 0.686\n",
      "epoch : 140, train_loss : 0.4724780023097992, acc : 0.642\n",
      "epoch : 150, train_loss : 0.624582827091217, acc : 0.625\n",
      "epoch : 160, train_loss : 0.49828359484672546, acc : 0.641\n",
      "epoch : 170, train_loss : 0.13998490571975708, acc : 0.662\n",
      "epoch : 180, train_loss : 0.04989089444279671, acc : 0.7\n",
      "epoch : 190, train_loss : 0.09441149979829788, acc : 0.707\n",
      "epoch : 200, train_loss : 0.014613708481192589, acc : 0.7\n"
     ]
    }
   ],
   "source": [
    "for epoch in range(epochs):\n",
    "    model.train()\n",
    "    # forward\n",
    "    pred = model(data)\n",
    "    \n",
    "    # loss\n",
    "    loss = F.cross_entropy(pred[data.train_mask], data.y[data.train_mask])\n",
    "    \n",
    "    # backward\n",
    "    loss.backward()\n",
    "    \n",
    "    # update\n",
    "    optimizer.step()\n",
    "    \n",
    "    train_loss = loss.item()\n",
    "    \n",
    "    model.eval()\n",
    "    pred = model(data).max(dim=1).indices\n",
    "    correct = float(pred[data.test_mask].eq(data.y[data.test_mask]).sum().item())\n",
    "    acc = correct / data.test_mask.sum().item()\n",
    "    \n",
    "    if (epoch+1) % 10 == 0:\n",
    "        print('epoch : {}, train_loss : {}, acc : {}'.format(epoch+1, train_loss, acc))"
   ]
  }
 ],
 "metadata": {
  "kernelspec": {
   "display_name": "study2",
   "language": "python",
   "name": "study2"
  },
  "language_info": {
   "codemirror_mode": {
    "name": "ipython",
    "version": 3
   },
   "file_extension": ".py",
   "mimetype": "text/x-python",
   "name": "python",
   "nbconvert_exporter": "python",
   "pygments_lexer": "ipython3",
   "version": "3.8.5"
  }
 },
 "nbformat": 4,
 "nbformat_minor": 4
}
