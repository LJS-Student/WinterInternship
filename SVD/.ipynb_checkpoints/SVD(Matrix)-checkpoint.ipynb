{
 "cells": [
  {
   "cell_type": "markdown",
   "metadata": {},
   "source": [
    "# 필요한 패키지 설치"
   ]
  },
  {
   "cell_type": "code",
   "execution_count": 1,
   "metadata": {},
   "outputs": [],
   "source": [
    "import numpy as np\n",
    "import pandas as pd\n",
    "import torch\n",
    "import torch.nn as nn\n",
    "from torch.utils.data import Dataset, DataLoader\n",
    "from torch.utils.tensorboard import SummaryWriter\n",
    "import os"
   ]
  },
  {
   "cell_type": "markdown",
   "metadata": {},
   "source": [
    "# Data불러오기"
   ]
  },
  {
   "cell_type": "code",
   "execution_count": 2,
   "metadata": {},
   "outputs": [],
   "source": [
    "col_names = ['user_id', 'movie_id', 'rating', 'timestamp']\n",
    "df = pd.read_csv('../Data/MovieLens/ml-100k/u.data', sep='\\t', names=col_names)\n",
    "train_df = pd.read_csv('../Data/MovieLens/ml-100k/ua.base', sep='\\t', names=col_names)\n",
    "test_df = pd.read_csv('../Data/MovieLens/ml-100k/ua.test', sep='\\t', names=col_names)"
   ]
  },
  {
   "cell_type": "code",
   "execution_count": 3,
   "metadata": {},
   "outputs": [],
   "source": [
    "n_users = len(df.loc[:,'user_id'].unique())\n",
    "n_items = len(df.loc[:,'movie_id'].unique())"
   ]
  },
  {
   "cell_type": "markdown",
   "metadata": {},
   "source": [
    "# 투입할 Dataset 만들기"
   ]
  },
  {
   "cell_type": "code",
   "execution_count": 4,
   "metadata": {},
   "outputs": [],
   "source": [
    "# R matrix\n",
    "R = torch.zeros((n_users, n_items))\n",
    "for user_id, movie_id, rating, timestamp in train_df.values:\n",
    "    R[user_id-1, movie_id-1] = rating"
   ]
  },
  {
   "cell_type": "code",
   "execution_count": 5,
   "metadata": {},
   "outputs": [],
   "source": [
    "R_test = torch.zeros((n_users, n_items))\n",
    "for user_id, movie_id, rating, timestamp in test_df.values:\n",
    "    R_test[user_id-1, movie_id-1] = rating"
   ]
  },
  {
   "cell_type": "code",
   "execution_count": 6,
   "metadata": {},
   "outputs": [],
   "source": [
    "class PandasDataset(Dataset):\n",
    "    \n",
    "    def __init__(self, dataset): \n",
    "        super(PandasDataset, self).__init__()\n",
    "        self.X = dataset.iloc[ : , [0,1]]\n",
    "        self.y = dataset.iloc[ :, 2]\n",
    "        self.X_value, self.y_value = self.X.values, self.y.values\n",
    "        \n",
    "    def __len__(self):\n",
    "        return len(self.X)\n",
    "        \n",
    "    def __getitem__(self, idx):\n",
    "        return{\n",
    "            'X' : torch.from_numpy(self.X_value)[idx],\n",
    "            'y' : torch.from_numpy(self.y_value)[idx]\n",
    "        }\n",
    "        "
   ]
  },
  {
   "cell_type": "code",
   "execution_count": 7,
   "metadata": {},
   "outputs": [],
   "source": [
    "batch_size = 1000\n",
    "\n",
    "train_dataset = PandasDataset(train_df)\n",
    "train_loader = DataLoader(train_dataset, batch_size=batch_size, shuffle=True)"
   ]
  },
  {
   "cell_type": "markdown",
   "metadata": {},
   "source": [
    "# Device"
   ]
  },
  {
   "cell_type": "code",
   "execution_count": 8,
   "metadata": {},
   "outputs": [
    {
     "data": {
      "text/plain": [
       "True"
      ]
     },
     "execution_count": 8,
     "metadata": {},
     "output_type": "execute_result"
    }
   ],
   "source": [
    "os.environ[\"CUDA_DEVICE_ORDER\"]=\"PCI_BUS_ID\"\n",
    "os.environ[\"CUDA_VISIBLE_DEVICES\"]=\"0\"\n",
    "torch.cuda.is_available()"
   ]
  },
  {
   "cell_type": "code",
   "execution_count": 9,
   "metadata": {},
   "outputs": [
    {
     "name": "stdout",
     "output_type": "stream",
     "text": [
      "cuda:0\n"
     ]
    }
   ],
   "source": [
    "device = torch.device(\"cuda:0\" if torch.cuda.is_available() else \"cpu\")\n",
    "print(device)"
   ]
  },
  {
   "cell_type": "markdown",
   "metadata": {},
   "source": [
    "# Model"
   ]
  },
  {
   "cell_type": "code",
   "execution_count": 10,
   "metadata": {},
   "outputs": [],
   "source": [
    "# number of latent factor\n",
    "k = 10"
   ]
  },
  {
   "cell_type": "code",
   "execution_count": 11,
   "metadata": {},
   "outputs": [],
   "source": [
    "class SVD(nn.Module):\n",
    "    def __init__(self):\n",
    "        super(SVD, self).__init__()\n",
    "        \n",
    "        self.mu = nn.Parameter(torch.tensor(np.mean(train_df.loc[:, 'rating'])), requires_grad = True) # scalar\n",
    "        \n",
    "        self.B_u = nn.Parameter(torch.randn(n_users), requires_grad = True) # 1 x n_users\n",
    "        self.B_i = nn.Parameter(torch.randn(n_items), requires_grad = True) # 1 x n_items\n",
    "        \n",
    "        self.P = nn.Parameter(nn.init.normal_(torch.zeros(k, n_users), std=1.0/k), requires_grad = True) # k x n_users\n",
    "        self.Q = nn.Parameter(nn.init.normal_(torch.zeros(k, n_items), std=1.0/k), requires_grad = True) # k x n_items\n",
    "        \n",
    "    def forward(self):\n",
    "        \n",
    "        user_bias = self.B_u.repeat(n_items).view(n_users,n_items) # n_users x n_items\n",
    "        item_bias = self.B_i.repeat(n_users).view(n_users,n_items) # n_users x n_items\n",
    "        \n",
    "        output = torch.mm(self.P.T, self.Q) + user_bias + item_bias # n_users x n_items\n",
    "        \n",
    "        reg = torch.norm(self.P) + torch.norm(self.Q) + torch.norm(self.B_u) + torch.norm(self.B_i) # scalar\n",
    "        \n",
    "        return output, reg\n",
    "    "
   ]
  },
  {
   "cell_type": "code",
   "execution_count": 12,
   "metadata": {},
   "outputs": [],
   "source": [
    "model = SVD()\n",
    "model = model.to(device)"
   ]
  },
  {
   "cell_type": "markdown",
   "metadata": {},
   "source": [
    "# Learning"
   ]
  },
  {
   "cell_type": "code",
   "execution_count": 13,
   "metadata": {},
   "outputs": [],
   "source": [
    "epochs = 300\n",
    "lamda_3 = 0.005\n",
    "optimizer = torch.optim.SGD(model.parameters(), lr=0.001)"
   ]
  },
  {
   "cell_type": "code",
   "execution_count": 14,
   "metadata": {},
   "outputs": [
    {
     "name": "stdout",
     "output_type": "stream",
     "text": [
      "epoch : 10, obj : 1018.1600214360834, RMSE : 0.5898470282554626\n",
      "epoch : 20, obj : 845.935043167282, RMSE : 0.5359881520271301\n",
      "epoch : 30, obj : 701.4034725650326, RMSE : 0.4875205457210541\n",
      "epoch : 40, obj : 586.98974609375, RMSE : 0.4465717673301697\n",
      "epoch : 50, obj : 501.9519505762792, RMSE : 0.41429397463798523\n",
      "epoch : 60, obj : 441.98416774875517, RMSE : 0.3903130292892456\n",
      "epoch : 70, obj : 400.9330075442136, RMSE : 0.3731512427330017\n",
      "epoch : 80, obj : 373.0351106413118, RMSE : 0.36108335852622986\n",
      "epoch : 90, obj : 353.94774250407795, RMSE : 0.3526441156864166\n",
      "epoch : 100, obj : 340.6921071482229, RMSE : 0.3467302918434143\n",
      "epoch : 110, obj : 331.27991862873455, RMSE : 0.34254834055900574\n",
      "epoch : 120, obj : 324.3895293854095, RMSE : 0.3395415246486664\n",
      "epoch : 130, obj : 319.1409385597313, RMSE : 0.3373263478279114\n",
      "epoch : 140, obj : 314.944083748283, RMSE : 0.3356415927410126\n",
      "epoch : 150, obj : 311.39733048323745, RMSE : 0.3343091905117035\n",
      "epoch : 160, obj : 308.22185575045074, RMSE : 0.3332068622112274\n",
      "epoch : 170, obj : 305.22199291187326, RMSE : 0.3322494626045227\n",
      "epoch : 180, obj : 302.26419603955617, RMSE : 0.33137747645378113\n",
      "epoch : 190, obj : 299.2683799659813, RMSE : 0.3305506110191345\n",
      "epoch : 200, obj : 296.20435576386507, RMSE : 0.32974401116371155\n",
      "epoch : 210, obj : 293.0860360952524, RMSE : 0.32894599437713623\n",
      "epoch : 220, obj : 289.9577817812071, RMSE : 0.32815465331077576\n",
      "epoch : 230, obj : 286.8740435589801, RMSE : 0.32737451791763306\n",
      "epoch : 240, obj : 283.8804988651485, RMSE : 0.3266122043132782\n",
      "epoch : 250, obj : 281.0047054081173, RMSE : 0.32587409019470215\n",
      "epoch : 260, obj : 278.2573651324262, RMSE : 0.32516494393348694\n",
      "epoch : 270, obj : 275.63887812017083, RMSE : 0.32448822259902954\n",
      "epoch : 280, obj : 273.1451888870407, RMSE : 0.3238459527492523\n",
      "epoch : 290, obj : 270.77066476004467, RMSE : 0.32323938608169556\n",
      "epoch : 300, obj : 268.50899396623885, RMSE : 0.32266896963119507\n"
     ]
    }
   ],
   "source": [
    "writer = SummaryWriter()\n",
    "\n",
    "for epoch in range(epochs):\n",
    "    total_loss = 0\n",
    "    model.train()\n",
    "    for data in train_loader: # batch x 2\n",
    "        \n",
    "        # predict\n",
    "        R_hat = model()[0]\n",
    "        reg = model()[1]\n",
    "        \n",
    "        # loss\n",
    "        loss = torch.norm(R[R!=0].to(device)-R_hat[R!=0]) + lamda_3*reg\n",
    "        \n",
    "        # initialize\n",
    "        optimizer.zero_grad()\n",
    "        \n",
    "        # calculate gradient\n",
    "        loss.backward()\n",
    "        \n",
    "        # update\n",
    "        optimizer.step()\n",
    "        \n",
    "        total_loss += loss.item()\n",
    "        \n",
    "    obj = total_loss / len(train_loader)   \n",
    "    \n",
    "    #evaluation\n",
    "    model.eval()\n",
    "    \n",
    "    R_hat = model()[0]\n",
    "    SSE = torch.norm(R_test[R_test!=0].to(device) - R_hat[R_test!=0])\n",
    "    RMSE = torch.sqrt(SSE/ R_test.shape[0])\n",
    "    \n",
    "    writer.add_scalar(\"obj\", obj, epoch+1)\n",
    "    writer.add_scalar(\"RMSE\", RMSE, epoch+1)\n",
    "    \n",
    "    if (epoch+1) % 10 == 0:\n",
    "        print(\"epoch : {}, obj : {}, RMSE : {}\".format(epoch+1, obj, RMSE))"
   ]
  },
  {
   "cell_type": "code",
   "execution_count": null,
   "metadata": {},
   "outputs": [],
   "source": []
  }
 ],
 "metadata": {
  "kernelspec": {
   "display_name": "study",
   "language": "python",
   "name": "study"
  },
  "language_info": {
   "codemirror_mode": {
    "name": "ipython",
    "version": 3
   },
   "file_extension": ".py",
   "mimetype": "text/x-python",
   "name": "python",
   "nbconvert_exporter": "python",
   "pygments_lexer": "ipython3",
   "version": "3.8.5"
  }
 },
 "nbformat": 4,
 "nbformat_minor": 4
}
