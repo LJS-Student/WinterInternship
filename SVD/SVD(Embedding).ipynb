{
 "cells": [
  {
   "cell_type": "code",
   "execution_count": 2,
   "metadata": {},
   "outputs": [],
   "source": [
    "import numpy as np\n",
    "import pandas as pd\n",
    "import torch\n",
    "import torch.nn as nn\n",
    "from torch.utils.data import Dataset, DataLoader\n",
    "from torch.utils.tensorboard import SummaryWriter\n",
    "import os"
   ]
  },
  {
   "cell_type": "code",
   "execution_count": 3,
   "metadata": {},
   "outputs": [],
   "source": [
    "col_names = ['user_id', 'movie_id', 'rating', 'timestamp']\n",
    "df = pd.read_csv('../Data/MovieLens/ml-100k/u.data', sep='\\t', names=col_names)\n",
    "train_df = pd.read_csv('../Data/MovieLens/ml-100k/ua.base', sep='\\t', names=col_names)\n",
    "test_df = pd.read_csv('../Data/MovieLens/ml-100k/ua.test', sep='\\t', names=col_names)"
   ]
  },
  {
   "cell_type": "code",
   "execution_count": null,
   "metadata": {},
   "outputs": [],
   "source": [
    "train_df.drop('timestamp', axis=1, inplace=True)\n",
    "test_df.drop('timestamp', axis=1, inplace=True)"
   ]
  },
  {
   "cell_type": "code",
   "execution_count": 4,
   "metadata": {},
   "outputs": [],
   "source": [
    "n_users = len(df.loc[:,'user_id'].unique())\n",
    "n_items = len(df.loc[:,'movie_id'].unique())"
   ]
  },
  {
   "cell_type": "code",
   "execution_count": 5,
   "metadata": {},
   "outputs": [],
   "source": [
    "# R matrix\n",
    "R = torch.zeros((n_users, n_items))\n",
    "for user_id, movie_id, rating, timestamp in train_df.values:\n",
    "    R[user_id-1, movie_id-1] = rating"
   ]
  },
  {
   "cell_type": "code",
   "execution_count": 6,
   "metadata": {},
   "outputs": [],
   "source": [
    "R_test = torch.zeros((n_users, n_items))\n",
    "for user_id, movie_id, rating, timestamp in test_df.values:\n",
    "    R_test[user_id-1, movie_id-1] = rating"
   ]
  },
  {
   "cell_type": "code",
   "execution_count": 25,
   "metadata": {},
   "outputs": [],
   "source": [
    "train_dummy = pd.get_dummies(train_df, columns=['user_id', 'movie_id'])\n",
    "train_dummy.drop('rating', axis=1, inplace=True)\n",
    "train_df = pd.concat([train_dummy, train_df], axis=1)"
   ]
  },
  {
   "cell_type": "code",
   "execution_count": 46,
   "metadata": {},
   "outputs": [
    {
     "data": {
      "text/plain": [
       "0          1\n",
       "1          1\n",
       "2          1\n",
       "3          1\n",
       "4          1\n",
       "        ... \n",
       "90565    943\n",
       "90566    943\n",
       "90567    943\n",
       "90568    943\n",
       "90569    943\n",
       "Name: user_id, Length: 90570, dtype: int64"
      ]
     },
     "execution_count": 46,
     "metadata": {},
     "output_type": "execute_result"
    }
   ],
   "source": [
    "train_df.iloc[:,2623]"
   ]
  },
  {
   "cell_type": "code",
   "execution_count": 36,
   "metadata": {},
   "outputs": [
    {
     "data": {
      "text/html": [
       "<div>\n",
       "<style scoped>\n",
       "    .dataframe tbody tr th:only-of-type {\n",
       "        vertical-align: middle;\n",
       "    }\n",
       "\n",
       "    .dataframe tbody tr th {\n",
       "        vertical-align: top;\n",
       "    }\n",
       "\n",
       "    .dataframe thead th {\n",
       "        text-align: right;\n",
       "    }\n",
       "</style>\n",
       "<table border=\"1\" class=\"dataframe\">\n",
       "  <thead>\n",
       "    <tr style=\"text-align: right;\">\n",
       "      <th></th>\n",
       "      <th>user_id_1</th>\n",
       "      <th>user_id_2</th>\n",
       "      <th>user_id_3</th>\n",
       "      <th>user_id_4</th>\n",
       "      <th>user_id_5</th>\n",
       "      <th>user_id_6</th>\n",
       "      <th>user_id_7</th>\n",
       "      <th>user_id_8</th>\n",
       "      <th>user_id_9</th>\n",
       "      <th>user_id_10</th>\n",
       "      <th>...</th>\n",
       "      <th>movie_id_1676</th>\n",
       "      <th>movie_id_1677</th>\n",
       "      <th>movie_id_1678</th>\n",
       "      <th>movie_id_1679</th>\n",
       "      <th>movie_id_1680</th>\n",
       "      <th>movie_id_1681</th>\n",
       "      <th>movie_id_1682</th>\n",
       "      <th>user_id</th>\n",
       "      <th>movie_id</th>\n",
       "      <th>rating</th>\n",
       "    </tr>\n",
       "  </thead>\n",
       "  <tbody>\n",
       "    <tr>\n",
       "      <th>0</th>\n",
       "      <td>1</td>\n",
       "      <td>0</td>\n",
       "      <td>0</td>\n",
       "      <td>0</td>\n",
       "      <td>0</td>\n",
       "      <td>0</td>\n",
       "      <td>0</td>\n",
       "      <td>0</td>\n",
       "      <td>0</td>\n",
       "      <td>0</td>\n",
       "      <td>...</td>\n",
       "      <td>0</td>\n",
       "      <td>0</td>\n",
       "      <td>0</td>\n",
       "      <td>0</td>\n",
       "      <td>0</td>\n",
       "      <td>0</td>\n",
       "      <td>0</td>\n",
       "      <td>1</td>\n",
       "      <td>1</td>\n",
       "      <td>5</td>\n",
       "    </tr>\n",
       "    <tr>\n",
       "      <th>1</th>\n",
       "      <td>1</td>\n",
       "      <td>0</td>\n",
       "      <td>0</td>\n",
       "      <td>0</td>\n",
       "      <td>0</td>\n",
       "      <td>0</td>\n",
       "      <td>0</td>\n",
       "      <td>0</td>\n",
       "      <td>0</td>\n",
       "      <td>0</td>\n",
       "      <td>...</td>\n",
       "      <td>0</td>\n",
       "      <td>0</td>\n",
       "      <td>0</td>\n",
       "      <td>0</td>\n",
       "      <td>0</td>\n",
       "      <td>0</td>\n",
       "      <td>0</td>\n",
       "      <td>1</td>\n",
       "      <td>2</td>\n",
       "      <td>3</td>\n",
       "    </tr>\n",
       "    <tr>\n",
       "      <th>2</th>\n",
       "      <td>1</td>\n",
       "      <td>0</td>\n",
       "      <td>0</td>\n",
       "      <td>0</td>\n",
       "      <td>0</td>\n",
       "      <td>0</td>\n",
       "      <td>0</td>\n",
       "      <td>0</td>\n",
       "      <td>0</td>\n",
       "      <td>0</td>\n",
       "      <td>...</td>\n",
       "      <td>0</td>\n",
       "      <td>0</td>\n",
       "      <td>0</td>\n",
       "      <td>0</td>\n",
       "      <td>0</td>\n",
       "      <td>0</td>\n",
       "      <td>0</td>\n",
       "      <td>1</td>\n",
       "      <td>3</td>\n",
       "      <td>4</td>\n",
       "    </tr>\n",
       "    <tr>\n",
       "      <th>3</th>\n",
       "      <td>1</td>\n",
       "      <td>0</td>\n",
       "      <td>0</td>\n",
       "      <td>0</td>\n",
       "      <td>0</td>\n",
       "      <td>0</td>\n",
       "      <td>0</td>\n",
       "      <td>0</td>\n",
       "      <td>0</td>\n",
       "      <td>0</td>\n",
       "      <td>...</td>\n",
       "      <td>0</td>\n",
       "      <td>0</td>\n",
       "      <td>0</td>\n",
       "      <td>0</td>\n",
       "      <td>0</td>\n",
       "      <td>0</td>\n",
       "      <td>0</td>\n",
       "      <td>1</td>\n",
       "      <td>4</td>\n",
       "      <td>3</td>\n",
       "    </tr>\n",
       "    <tr>\n",
       "      <th>4</th>\n",
       "      <td>1</td>\n",
       "      <td>0</td>\n",
       "      <td>0</td>\n",
       "      <td>0</td>\n",
       "      <td>0</td>\n",
       "      <td>0</td>\n",
       "      <td>0</td>\n",
       "      <td>0</td>\n",
       "      <td>0</td>\n",
       "      <td>0</td>\n",
       "      <td>...</td>\n",
       "      <td>0</td>\n",
       "      <td>0</td>\n",
       "      <td>0</td>\n",
       "      <td>0</td>\n",
       "      <td>0</td>\n",
       "      <td>0</td>\n",
       "      <td>0</td>\n",
       "      <td>1</td>\n",
       "      <td>5</td>\n",
       "      <td>3</td>\n",
       "    </tr>\n",
       "  </tbody>\n",
       "</table>\n",
       "<p>5 rows × 2626 columns</p>\n",
       "</div>"
      ],
      "text/plain": [
       "   user_id_1  user_id_2  user_id_3  user_id_4  user_id_5  user_id_6  \\\n",
       "0          1          0          0          0          0          0   \n",
       "1          1          0          0          0          0          0   \n",
       "2          1          0          0          0          0          0   \n",
       "3          1          0          0          0          0          0   \n",
       "4          1          0          0          0          0          0   \n",
       "\n",
       "   user_id_7  user_id_8  user_id_9  user_id_10  ...  movie_id_1676  \\\n",
       "0          0          0          0           0  ...              0   \n",
       "1          0          0          0           0  ...              0   \n",
       "2          0          0          0           0  ...              0   \n",
       "3          0          0          0           0  ...              0   \n",
       "4          0          0          0           0  ...              0   \n",
       "\n",
       "   movie_id_1677  movie_id_1678  movie_id_1679  movie_id_1680  movie_id_1681  \\\n",
       "0              0              0              0              0              0   \n",
       "1              0              0              0              0              0   \n",
       "2              0              0              0              0              0   \n",
       "3              0              0              0              0              0   \n",
       "4              0              0              0              0              0   \n",
       "\n",
       "   movie_id_1682  user_id  movie_id  rating  \n",
       "0              0        1         1       5  \n",
       "1              0        1         2       3  \n",
       "2              0        1         3       4  \n",
       "3              0        1         4       3  \n",
       "4              0        1         5       3  \n",
       "\n",
       "[5 rows x 2626 columns]"
      ]
     },
     "execution_count": 36,
     "metadata": {},
     "output_type": "execute_result"
    }
   ],
   "source": [
    "train_df.head()"
   ]
  },
  {
   "cell_type": "code",
   "execution_count": null,
   "metadata": {},
   "outputs": [],
   "source": []
  },
  {
   "cell_type": "code",
   "execution_count": 48,
   "metadata": {},
   "outputs": [],
   "source": [
    "class PandasDataset(Dataset):\n",
    "    \n",
    "    def __init__(self, dataset): \n",
    "        super(PandasDataset, self).__init__()\n",
    "        self.user = dataset.iloc[:,:n_users]\n",
    "        self.item = dataset.iloc[:,n_users:2623]\n",
    "        self.embed_user = dataset.iloc[:, 2623]\n",
    "        self.embed_item = dataset.iloc[:, 2624]\n",
    "        self.y = dataset.iloc[ :, 2625]\n",
    "        \n",
    "        self.user_value, self.item_value = self.user.values, self.item.values\n",
    "        self.embed_value, self.embed_item_value, self.y_value = self.embed_user.values, self.embed_item.values ,self.y.values\n",
    "        \n",
    "    def __len__(self):\n",
    "        return len(self.user)\n",
    "        \n",
    "    def __getitem__(self, idx):\n",
    "        return{\n",
    "            'user' : torch.from_numpy(self.user_value)[idx],\n",
    "            'item' : torch.from_numpy(self.item_value)[idx],\n",
    "            'embed_user' : torch.from_numpy(self.embed_user_value)[idx],\n",
    "            'embed_item' : torch.from_numpy(self.embed_item_value)[idx],\n",
    "            'y' : torch.from_numpy(self.y_value)[idx]\n",
    "        }\n",
    "        "
   ]
  },
  {
   "cell_type": "code",
   "execution_count": 49,
   "metadata": {},
   "outputs": [],
   "source": [
    "batch_size = 1000\n",
    "\n",
    "train_dataset = PandasDataset(train_df)\n",
    "train_loader = DataLoader(train_dataset, batch_size=batch_size, shuffle=True)"
   ]
  },
  {
   "cell_type": "code",
   "execution_count": 50,
   "metadata": {},
   "outputs": [],
   "source": [
    "# number of latent factor\n",
    "k = 10"
   ]
  },
  {
   "cell_type": "code",
   "execution_count": 12,
   "metadata": {},
   "outputs": [],
   "source": [
    "class SVD(nn.Module):\n",
    "    \n",
    "    def __init__(self):\n",
    "        super(SVD, self).__init__()\n",
    "        \n",
    "        self.mu = nn.Parameter(torch.tensor(np.mean(train_df.loc[:, 'rating'])), requires_grad = True) # scalar\n",
    "                \n",
    "        self.user_embedding = nn.Embedding(n_users, k)\n",
    "        self.item_embedding = nn.Embedding(n_items, k)\n",
    "        \n",
    "        self.lin = nn.Linear(n_users+n_items, 1)\n",
    "        \n",
    "    def forward(self, user, item, emb_user, emb_item):\n",
    "        \n",
    "        embeded_user = nn.Embedding(emb_user) # batch x k\n",
    "        embeded_item = nn.Embedding(emb_item) # batch x k\n",
    "        \n",
    "        interaction = torch.mm(embeded_user, embeded_item.T) # batch x batch\n",
    "        \n",
    "        torch.cat((user ,item, interaction), dim=1)\n",
    "        \n",
    "        user_bias = self.B_u.repeat(n_items).view(n_users,n_items)\n",
    "        item_bias = self.B_i.repeat(n_users).view(n_users,n_items)\n",
    "        \n",
    "        output = torch.mm(self.P.T, self.Q) + user_bias + item_bias\n",
    "        \n",
    "        reg = torch.norm(self.P) + torch.norm(self.Q) + torch.norm(self.B_u) + torch.norm(self.B_i)\n",
    "        \n",
    "        return output, reg\n",
    "    "
   ]
  },
  {
   "cell_type": "code",
   "execution_count": 13,
   "metadata": {},
   "outputs": [],
   "source": [
    "model = SVD()"
   ]
  },
  {
   "cell_type": "code",
   "execution_count": null,
   "metadata": {},
   "outputs": [],
   "source": [
    "# embedding시키려면 onehotencoding해서 각각의 가중치를 넣어주는 방식을 이용해야 할것 같습니다.\n",
    "# Matrix를 만들어서 계산시키려니 bias term을 추가해주기가 힘드네요\n",
    "# 수식을 따라 코딩하려면 Matrix방법이 맞는것 같습니다."
   ]
  },
  {
   "cell_type": "code",
   "execution_count": null,
   "metadata": {},
   "outputs": [],
   "source": [
    "# R 매트릭스를 만들거면 user와 movie의 index를 알아야하는데 embedding시키고 나면 어떤 품목인지 알수가없음\n",
    "# Factorization Machine처럼 짜면 될거같긴함"
   ]
  }
 ],
 "metadata": {
  "kernelspec": {
   "display_name": "study",
   "language": "python",
   "name": "study"
  },
  "language_info": {
   "codemirror_mode": {
    "name": "ipython",
    "version": 3
   },
   "file_extension": ".py",
   "mimetype": "text/x-python",
   "name": "python",
   "nbconvert_exporter": "python",
   "pygments_lexer": "ipython3",
   "version": "3.8.5"
  }
 },
 "nbformat": 4,
 "nbformat_minor": 4
}
