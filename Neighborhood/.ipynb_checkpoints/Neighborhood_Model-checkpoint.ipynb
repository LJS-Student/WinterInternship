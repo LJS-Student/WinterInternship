{
 "cells": [
  {
   "cell_type": "code",
   "execution_count": 2,
   "metadata": {},
   "outputs": [],
   "source": [
    "import numpy as np\n",
    "import pandas as pd\n",
    "import math"
   ]
  },
  {
   "cell_type": "code",
   "execution_count": 3,
   "metadata": {},
   "outputs": [],
   "source": [
    "col_names = ['user_id', 'movie_id', 'rating', 'timestamp']\n",
    "df = pd.read_csv('../Data/MovieLens/ml-100k/u.data', sep='\\t', names=col_names)\n",
    "train_df = pd.read_csv('../Data/MovieLens/ml-100k/ua.base', sep='\\t', names=col_names)\n",
    "test_df = pd.read_csv('../Data/MovieLens/ml-100k/ua.test', sep='\\t', names=col_names)"
   ]
  },
  {
   "cell_type": "code",
   "execution_count": 4,
   "metadata": {},
   "outputs": [],
   "source": [
    "n_users = len(df.loc[:,'user_id'].unique())\n",
    "n_items = len(df.loc[:,'movie_id'].unique())"
   ]
  },
  {
   "cell_type": "code",
   "execution_count": 5,
   "metadata": {},
   "outputs": [],
   "source": [
    "# R matrix\n",
    "R = np.zeros((n_users, n_items))\n",
    "for user_id, movie_id, rating, timestamp in train_df.values:\n",
    "    R[user_id-1, movie_id-1] = rating"
   ]
  },
  {
   "cell_type": "code",
   "execution_count": 6,
   "metadata": {},
   "outputs": [],
   "source": [
    "# R_test matrix\n",
    "R_test = np.zeros((n_users, n_items))\n",
    "for user_id, movie_id, rating, timestamp in test_df.values:\n",
    "    R_test[user_id-1, movie_id-1] = rating"
   ]
  },
  {
   "cell_type": "code",
   "execution_count": 9,
   "metadata": {},
   "outputs": [],
   "source": [
    "# Pearson correlation matrix(Item-based)\n",
    "corr = np.corrcoef(R.T)"
   ]
  },
  {
   "cell_type": "code",
   "execution_count": 134,
   "metadata": {},
   "outputs": [],
   "source": [
    "# hyperparameter\n",
    "r = 0.005\n",
    "lamda2=10\n",
    "lamda4=0.002\n",
    "k=50\n",
    "epochs = 10"
   ]
  },
  {
   "cell_type": "code",
   "execution_count": 173,
   "metadata": {},
   "outputs": [],
   "source": [
    "# initialize\n",
    "mu = np.mean(train_df.loc[:, 'rating'])\n",
    "B_u = np.random.randn(n_users)\n",
    "B_i = np.random.randn(n_items)\n",
    "\n",
    "C = np.random.randn(n_items, n_items)"
   ]
  },
  {
   "cell_type": "code",
   "execution_count": null,
   "metadata": {},
   "outputs": [],
   "source": [
    "# I matrix : 평가한건 1 아니면 0\n",
    "I = np.array(np.vectorize(lambda x: 0 if x==0 else 1)(R), dtype = np.float64)"
   ]
  },
  {
   "cell_type": "code",
   "execution_count": 13,
   "metadata": {},
   "outputs": [],
   "source": [
    "# N matrix : 같이 평가된 아이템\n",
    "N = np.zeros((n_items, n_items))\n",
    "\n",
    "for i in range(n_items):\n",
    "    for j in range(n_items):\n",
    "        n_ij = np.dot(I.T[i], I.T[j])\n",
    "        N[i, j] = n_ij"
   ]
  },
  {
   "cell_type": "code",
   "execution_count": 14,
   "metadata": {},
   "outputs": [],
   "source": [
    "# S matrix\n",
    "S = np.zeros((n_items,n_items))\n",
    "for i in range(n_items):\n",
    "    for j in range(n_items):\n",
    "        s_ij = (N[i,j]/(N[i,j] + lamda2))*corr[i,j]\n",
    "        S[i,j] = s_ij"
   ]
  },
  {
   "cell_type": "code",
   "execution_count": 156,
   "metadata": {},
   "outputs": [],
   "source": [
    "for user_Id, item_id, rating, timestamp in train_df.values:\n",
    "    R_u = []\n",
    "    for item, rating in enumerate(R[user_id-1]): # R_u 집합 생성(item index가 하나 낮음)\n",
    "        if rating==1:\n",
    "            R_u.append(item)\n",
    "    \n",
    "    S_k_i = []\n",
    "    prior_largest = float('inf')\n",
    "    while True: # S_k_i 집합 생성(item index가 하나 낮음)\n",
    "        largest = -float('inf')\n",
    "        for item, similarity in enumerate(S[item_id-1]):   \n",
    "            if largest < similarity < prior_largest:\n",
    "                largest = similarity\n",
    "                largest_item = item\n",
    "        prior_largest = largest\n",
    "        S_k_i.append(largest_item)\n",
    "    \n",
    "        if len(S_k_i) == k:\n",
    "            break\n",
    "    \n",
    "    N_u = []\n",
    "    for item, indicator in enumerate(I[user_id-1]):\n",
    "        if indicator==1:\n",
    "            N_u.append(item)\n",
    "            \n",
    "    Rk_iu = list(set(R_u) & set(S_k_i))\n",
    "    Nk_iu = list(set(N_u) & set(S_k_i))\n",
    "    \n",
    "    # prediction\n",
    "    baseline_term = mu + B_u[user_id-1] + B_i[item_id-1]\n",
    "    explicit_term\n",
    "    implicit_term = "
   ]
  },
  {
   "cell_type": "code",
   "execution_count": 159,
   "metadata": {},
   "outputs": [
    {
     "data": {
      "text/plain": [
       "[]"
      ]
     },
     "execution_count": 159,
     "metadata": {},
     "output_type": "execute_result"
    }
   ],
   "source": [
    "for i in R:\n",
    "    for j in R:\n",
    "        if R[i][j] !=0:\n",
    "            "
   ]
  },
  {
   "cell_type": "code",
   "execution_count": 185,
   "metadata": {},
   "outputs": [
    {
     "ename": "KeyboardInterrupt",
     "evalue": "",
     "output_type": "error",
     "traceback": [
      "\u001b[0;31m---------------------------------------------------------------------------\u001b[0m",
      "\u001b[0;31mKeyboardInterrupt\u001b[0m                         Traceback (most recent call last)",
      "\u001b[0;32m<ipython-input-185-725b09be0248>\u001b[0m in \u001b[0;36m<module>\u001b[0;34m\u001b[0m\n\u001b[1;32m     12\u001b[0m             \u001b[0;32mwhile\u001b[0m \u001b[0;32mTrue\u001b[0m\u001b[0;34m:\u001b[0m \u001b[0;31m# S_k_i 집합 생성(item index가 하나 낮음)\u001b[0m\u001b[0;34m\u001b[0m\u001b[0;34m\u001b[0m\u001b[0m\n\u001b[1;32m     13\u001b[0m                 \u001b[0mlargest\u001b[0m \u001b[0;34m=\u001b[0m \u001b[0;34m-\u001b[0m\u001b[0mfloat\u001b[0m\u001b[0;34m(\u001b[0m\u001b[0;34m'inf'\u001b[0m\u001b[0;34m)\u001b[0m\u001b[0;34m\u001b[0m\u001b[0;34m\u001b[0m\u001b[0m\n\u001b[0;32m---> 14\u001b[0;31m                 \u001b[0;32mfor\u001b[0m \u001b[0mitem\u001b[0m\u001b[0;34m,\u001b[0m \u001b[0msimilarity\u001b[0m \u001b[0;32min\u001b[0m \u001b[0menumerate\u001b[0m\u001b[0;34m(\u001b[0m\u001b[0mS\u001b[0m\u001b[0;34m[\u001b[0m\u001b[0mi\u001b[0m\u001b[0;34m]\u001b[0m\u001b[0;34m)\u001b[0m\u001b[0;34m:\u001b[0m\u001b[0;34m\u001b[0m\u001b[0;34m\u001b[0m\u001b[0m\n\u001b[0m\u001b[1;32m     15\u001b[0m                     \u001b[0;32mif\u001b[0m \u001b[0mlargest\u001b[0m \u001b[0;34m<\u001b[0m \u001b[0msimilarity\u001b[0m \u001b[0;34m<\u001b[0m \u001b[0mprior_largest\u001b[0m\u001b[0;34m:\u001b[0m\u001b[0;34m\u001b[0m\u001b[0;34m\u001b[0m\u001b[0m\n\u001b[1;32m     16\u001b[0m                         \u001b[0mlargest\u001b[0m \u001b[0;34m=\u001b[0m \u001b[0msimilarity\u001b[0m\u001b[0;34m\u001b[0m\u001b[0;34m\u001b[0m\u001b[0m\n",
      "\u001b[0;31mKeyboardInterrupt\u001b[0m: "
     ]
    }
   ],
   "source": [
    "for u in range(n_users):\n",
    "    for i in range(n_items):\n",
    "        if R[u,i] != 0:\n",
    "\n",
    "            R_u = []\n",
    "            for item, rating in enumerate(R[u]): # R_u 집합 생성(item index가 하나 낮음)\n",
    "                if rating==1:\n",
    "                    R_u.append(item)\n",
    "\n",
    "            S_k_i = []\n",
    "            prior_largest = float('inf')\n",
    "            while True: # S_k_i 집합 생성(item index가 하나 낮음)\n",
    "                largest = -float('inf')\n",
    "                for item, similarity in enumerate(S[i]):   \n",
    "                    if largest < similarity < prior_largest:\n",
    "                        largest = similarity\n",
    "                        largest_item = item\n",
    "                prior_largest = largest\n",
    "                S_k_i.append(largest_item)\n",
    "\n",
    "                if len(S_k_i) == k:\n",
    "                    break\n",
    "\n",
    "            N_u = [] # N_u 집합 생성\n",
    "            for item, indicator in enumerate(I[u]):\n",
    "                if indicator==1:\n",
    "                    N_u.append(item)\n",
    "\n",
    "            Rk_iu = list(set(R_u) & set(S_k_i))\n",
    "            Nk_iu = list(set(N_u) & set(S_k_i))\n",
    "\n",
    "            # prediction\n",
    "            baseline_term = mu + B_u[u] + B_i[i]\n",
    "            explicit_term = \n",
    "            implicit_term = sum(C[u:][Nk_iu])"
   ]
  },
  {
   "cell_type": "code",
   "execution_count": 186,
   "metadata": {},
   "outputs": [
    {
     "data": {
      "text/plain": [
       "[2,\n",
       " 6,\n",
       " 10,\n",
       " 779,\n",
       " 404,\n",
       " 789,\n",
       " 1046,\n",
       " 281,\n",
       " 155,\n",
       " 543,\n",
       " 32,\n",
       " 545,\n",
       " 49,\n",
       " 52,\n",
       " 180,\n",
       " 66,\n",
       " 67,\n",
       " 71,\n",
       " 79,\n",
       " 91,\n",
       " 230,\n",
       " 231,\n",
       " 745,\n",
       " 234,\n",
       " 366,\n",
       " 116]"
      ]
     },
     "execution_count": 186,
     "metadata": {},
     "output_type": "execute_result"
    }
   ],
   "source": [
    "Nk_iu"
   ]
  },
  {
   "cell_type": "code",
   "execution_count": null,
   "metadata": {},
   "outputs": [],
   "source": [
    "for u in range(n_users):\n",
    "    for i in range(n_items):\n",
    "        \n",
    "        C[u:]"
   ]
  },
  {
   "cell_type": "code",
   "execution_count": 187,
   "metadata": {},
   "outputs": [
    {
     "data": {
      "text/plain": [
       "array([[-0.69782285,  0.58898443, -0.28485162, ..., -0.87777486,\n",
       "         1.31258408,  1.25133884],\n",
       "       [ 1.16288232, -0.01831349, -1.46003616, ...,  0.65736645,\n",
       "        -0.23513548, -0.38312806],\n",
       "       [-1.29576204,  0.06736063,  1.33567328, ...,  0.88023722,\n",
       "        -1.44157481, -1.73423359],\n",
       "       ...,\n",
       "       [-0.14478151,  1.1959005 , -1.172451  , ..., -0.99440774,\n",
       "         0.22393368,  0.38307989],\n",
       "       [-0.86182304, -1.97096942, -1.44172332, ..., -2.41261443,\n",
       "         0.35200222, -0.89370514],\n",
       "       [ 1.44813533,  1.0885192 ,  1.20733797, ...,  1.177541  ,\n",
       "         1.00035125, -1.323691  ]])"
      ]
     },
     "execution_count": 187,
     "metadata": {},
     "output_type": "execute_result"
    }
   ],
   "source": [
    "C[3:]"
   ]
  },
  {
   "cell_type": "code",
   "execution_count": 189,
   "metadata": {},
   "outputs": [
    {
     "data": {
      "text/plain": [
       "-3.88040455128319"
      ]
     },
     "execution_count": 189,
     "metadata": {},
     "output_type": "execute_result"
    }
   ],
   "source": [
    "sum(C[3][Nk_iu])"
   ]
  },
  {
   "cell_type": "code",
   "execution_count": null,
   "metadata": {},
   "outputs": [],
   "source": [
    "# 미완성"
   ]
  }
 ],
 "metadata": {
  "kernelspec": {
   "display_name": "Python 3",
   "language": "python",
   "name": "python3"
  },
  "language_info": {
   "codemirror_mode": {
    "name": "ipython",
    "version": 3
   },
   "file_extension": ".py",
   "mimetype": "text/x-python",
   "name": "python",
   "nbconvert_exporter": "python",
   "pygments_lexer": "ipython3",
   "version": "3.8.5"
  }
 },
 "nbformat": 4,
 "nbformat_minor": 4
}
